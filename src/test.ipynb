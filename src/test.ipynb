{
 "cells": [
  {
   "cell_type": "code",
   "execution_count": 4,
   "metadata": {},
   "outputs": [],
   "source": [
    "import os\n",
    "os.chdir(os.path.expanduser(\"c:\\\\Users\\\\Leon\\\\OneDrive - Univerza v Ljubljani\\\\Documents\\\\Fe\\\\MAGISTRSKA\\\\koda\\\\src\"))\n",
    "\n",
    "from my_package.lib import (\n",
    "    generate_signals_with_scipy_skewnorm,\n",
    "    statistika,\n",
    "    create_interactive_plot,\n",
    "    anonymize_signals,\n",
    "    combine_plots,\n",
    "    anonim_count\n",
    ")\n",
    "import pandas as pd\n",
    "\n",
    "\n",
    "# GENERIRANJE SIGNALOV: Primer uporabe\n",
    "# desired_mean = 3.3559\n",
    "# desired_std = 0.5654\n",
    "# alpha = -0.4810\n",
    "\n",
    "# rezult2 = generate_signals_with_scipy_skewnorm(\n",
    "#     N=30,\n",
    "#     alpha=alpha,\n",
    "#     mean=desired_mean,\n",
    "#     std_dev=desired_std,\n",
    "#     time=np.arange(\n",
    "#         0, 10.00, 0.01\n",
    "#     ),  # 10 sekundni interval, vzorec na 0.01 sekunde - 1000 vzorcev/10s = 100 vzorcev/s\n",
    "#signal 40HZ, nekaj minut. 50MB exel - več featerjev.\n",
    "# )\n",
    "\n",
    "# #shrani v statistika.csv\n",
    "# rezult2.to_csv('statistika.csv', index=False)\n",
    "\n",
    "\n",
    "\n",
    "generirani_signali = pd.read_csv(\"../data/generirani_signali.csv\" )\n",
    "\n",
    "# statistika(generirani_signali)\n",
    "# print(generirani_signali.head())\n",
    "# fig1 = create_interactive_plot(generirani_signali)"
   ]
  },
  {
   "cell_type": "code",
   "execution_count": null,
   "metadata": {},
   "outputs": [],
   "source": []
  }
 ],
 "metadata": {
  "kernelspec": {
   "display_name": ".venv",
   "language": "python",
   "name": "python3"
  },
  "language_info": {
   "codemirror_mode": {
    "name": "ipython",
    "version": 3
   },
   "file_extension": ".py",
   "mimetype": "text/x-python",
   "name": "python",
   "nbconvert_exporter": "python",
   "pygments_lexer": "ipython3",
   "version": "3.11.4"
  }
 },
 "nbformat": 4,
 "nbformat_minor": 2
}
